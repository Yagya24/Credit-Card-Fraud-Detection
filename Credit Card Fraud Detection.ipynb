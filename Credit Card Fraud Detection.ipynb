{
 "cells": [
  {
   "cell_type": "markdown",
   "id": "1daaa2bb-bafb-4925-bdf6-bf1e0895bdb1",
   "metadata": {},
   "source": [
    "**Introduction**\n",
    "\n",
    "Imagine that you work for a financial institution and part of your job is to build a model that predicts if a credit card transaction is fraudulent or not. You can model the problem as a binary classification problem. A transaction belongs to the positive class (1) if it is a fraud, otherwise it belongs to the negative class (0).\n",
    "\n",
    "You have access to transactions that occured over a certain period of time. The majority of the transactions are normally legitimate and only a small fraction are non-legitimate. Thus, typically you have access to a dataset that is highly unbalanced. This is also the case of the current dataset: only 492 transactions out of 284,807 are fraudulent (the positive class - the frauds - accounts for 0.172% of all transactions).\n",
    "\n",
    "This is a Kaggle dataset. You can find this \"Credit Card Fraud Detection\" dataset from the following link: Credit Card Fraud Detection.\n",
    "\n",
    "To train the model, you can use part of the input dataset, while the remaining data can be utilized to assess the quality of the trained model. First, let's import the necessary libraries and download the dataset."
   ]
  },
  {
   "cell_type": "markdown",
   "id": "a7279bf8-4a37-4536-be8f-502e28b3ba36",
   "metadata": {},
   "source": [
    "***Import Libraries***"
   ]
  },
  {
   "cell_type": "code",
   "execution_count": 13,
   "id": "a9b8c14d-a3cb-4ff2-9f06-e700abf78325",
   "metadata": {},
   "outputs": [
    {
     "name": "stdout",
     "output_type": "stream",
     "text": [
      "Requirement already satisfied: snapml in c:\\users\\agyas\\anaconda3\\lib\\site-packages (1.15.6)\n",
      "Requirement already satisfied: scikit-learn in c:\\users\\agyas\\anaconda3\\lib\\site-packages (from snapml) (1.2.2)\n",
      "Requirement already satisfied: scipy in c:\\users\\agyas\\anaconda3\\lib\\site-packages (from snapml) (1.11.4)\n",
      "Requirement already satisfied: numpy>=1.23.2 in c:\\users\\agyas\\anaconda3\\lib\\site-packages (from snapml) (1.26.4)\n",
      "Requirement already satisfied: joblib>=1.1.1 in c:\\users\\agyas\\anaconda3\\lib\\site-packages (from scikit-learn->snapml) (1.2.0)\n",
      "Requirement already satisfied: threadpoolctl>=2.0.0 in c:\\users\\agyas\\anaconda3\\lib\\site-packages (from scikit-learn->snapml) (2.2.0)\n"
     ]
    }
   ],
   "source": [
    "#import snapml library\n",
    "!pip install snapml"
   ]
  },
  {
   "cell_type": "code",
   "execution_count": 14,
   "id": "f1d060c0-4964-4e7a-9dfc-560e4df3e3fa",
   "metadata": {},
   "outputs": [],
   "source": [
    "from __future__ import print_function\n",
    "import numpy as np\n",
    "import pandas as pd\n",
    "import matplotlib.pyplot as plt\n",
    "%matplotlib inline\n",
    "from sklearn.model_selection import train_test_split\n",
    "from sklearn.preprocessing import normalize , StandardScaler\n",
    "from sklearn.utils.class_weight import compute_sample_weight\n",
    "from sklearn.metrics import roc_auc_score\n",
    "import time\n",
    "import warnings\n",
    "warnings.filterwarnings('ignore')"
   ]
  },
  {
   "cell_type": "code",
   "execution_count": 15,
   "id": "30cc957b-6162-406a-aa84-ba18795e20e8",
   "metadata": {},
   "outputs": [
    {
     "name": "stdout",
     "output_type": "stream",
     "text": [
      "There are 284807 observations in the credit card fraud dataset.\n",
      "There are 31 variables in the dataset.\n"
     ]
    }
   ],
   "source": [
    "# download the dataset\n",
    "url= \"https://cf-courses-data.s3.us.cloud-object-storage.appdomain.cloud/IBMDeveloperSkillsNetwork-ML0101EN-SkillsNetwork/labs/Module%203/data/creditcard.csv\"\n",
    "\n",
    "# read the input data\n",
    "raw_data=pd.read_csv(url)\n",
    "print(\"There are \" + str(len(raw_data)) + \" observations in the credit card fraud dataset.\")\n",
    "print(\"There are \" + str(len(raw_data.columns)) + \" variables in the dataset.\")"
   ]
  },
  {
   "cell_type": "markdown",
   "id": "8cd93e83-f49f-45bf-a575-6c845b8882e2",
   "metadata": {},
   "source": [
    "***Dataset Analysis***"
   ]
  },
  {
   "cell_type": "code",
   "execution_count": 16,
   "id": "d8a6d615-6b6e-456a-860d-2b4658b522c6",
   "metadata": {},
   "outputs": [
    {
     "data": {
      "text/html": [
       "<div>\n",
       "<style scoped>\n",
       "    .dataframe tbody tr th:only-of-type {\n",
       "        vertical-align: middle;\n",
       "    }\n",
       "\n",
       "    .dataframe tbody tr th {\n",
       "        vertical-align: top;\n",
       "    }\n",
       "\n",
       "    .dataframe thead th {\n",
       "        text-align: right;\n",
       "    }\n",
       "</style>\n",
       "<table border=\"1\" class=\"dataframe\">\n",
       "  <thead>\n",
       "    <tr style=\"text-align: right;\">\n",
       "      <th></th>\n",
       "      <th>Time</th>\n",
       "      <th>V1</th>\n",
       "      <th>V2</th>\n",
       "      <th>V3</th>\n",
       "      <th>V4</th>\n",
       "      <th>V5</th>\n",
       "      <th>V6</th>\n",
       "      <th>V7</th>\n",
       "      <th>V8</th>\n",
       "      <th>V9</th>\n",
       "      <th>...</th>\n",
       "      <th>V21</th>\n",
       "      <th>V22</th>\n",
       "      <th>V23</th>\n",
       "      <th>V24</th>\n",
       "      <th>V25</th>\n",
       "      <th>V26</th>\n",
       "      <th>V27</th>\n",
       "      <th>V28</th>\n",
       "      <th>Amount</th>\n",
       "      <th>Class</th>\n",
       "    </tr>\n",
       "  </thead>\n",
       "  <tbody>\n",
       "    <tr>\n",
       "      <th>0</th>\n",
       "      <td>0.0</td>\n",
       "      <td>-1.359807</td>\n",
       "      <td>-0.072781</td>\n",
       "      <td>2.536347</td>\n",
       "      <td>1.378155</td>\n",
       "      <td>-0.338321</td>\n",
       "      <td>0.462388</td>\n",
       "      <td>0.239599</td>\n",
       "      <td>0.098698</td>\n",
       "      <td>0.363787</td>\n",
       "      <td>...</td>\n",
       "      <td>-0.018307</td>\n",
       "      <td>0.277838</td>\n",
       "      <td>-0.110474</td>\n",
       "      <td>0.066928</td>\n",
       "      <td>0.128539</td>\n",
       "      <td>-0.189115</td>\n",
       "      <td>0.133558</td>\n",
       "      <td>-0.021053</td>\n",
       "      <td>149.62</td>\n",
       "      <td>0</td>\n",
       "    </tr>\n",
       "    <tr>\n",
       "      <th>1</th>\n",
       "      <td>0.0</td>\n",
       "      <td>1.191857</td>\n",
       "      <td>0.266151</td>\n",
       "      <td>0.166480</td>\n",
       "      <td>0.448154</td>\n",
       "      <td>0.060018</td>\n",
       "      <td>-0.082361</td>\n",
       "      <td>-0.078803</td>\n",
       "      <td>0.085102</td>\n",
       "      <td>-0.255425</td>\n",
       "      <td>...</td>\n",
       "      <td>-0.225775</td>\n",
       "      <td>-0.638672</td>\n",
       "      <td>0.101288</td>\n",
       "      <td>-0.339846</td>\n",
       "      <td>0.167170</td>\n",
       "      <td>0.125895</td>\n",
       "      <td>-0.008983</td>\n",
       "      <td>0.014724</td>\n",
       "      <td>2.69</td>\n",
       "      <td>0</td>\n",
       "    </tr>\n",
       "    <tr>\n",
       "      <th>2</th>\n",
       "      <td>1.0</td>\n",
       "      <td>-1.358354</td>\n",
       "      <td>-1.340163</td>\n",
       "      <td>1.773209</td>\n",
       "      <td>0.379780</td>\n",
       "      <td>-0.503198</td>\n",
       "      <td>1.800499</td>\n",
       "      <td>0.791461</td>\n",
       "      <td>0.247676</td>\n",
       "      <td>-1.514654</td>\n",
       "      <td>...</td>\n",
       "      <td>0.247998</td>\n",
       "      <td>0.771679</td>\n",
       "      <td>0.909412</td>\n",
       "      <td>-0.689281</td>\n",
       "      <td>-0.327642</td>\n",
       "      <td>-0.139097</td>\n",
       "      <td>-0.055353</td>\n",
       "      <td>-0.059752</td>\n",
       "      <td>378.66</td>\n",
       "      <td>0</td>\n",
       "    </tr>\n",
       "    <tr>\n",
       "      <th>3</th>\n",
       "      <td>1.0</td>\n",
       "      <td>-0.966272</td>\n",
       "      <td>-0.185226</td>\n",
       "      <td>1.792993</td>\n",
       "      <td>-0.863291</td>\n",
       "      <td>-0.010309</td>\n",
       "      <td>1.247203</td>\n",
       "      <td>0.237609</td>\n",
       "      <td>0.377436</td>\n",
       "      <td>-1.387024</td>\n",
       "      <td>...</td>\n",
       "      <td>-0.108300</td>\n",
       "      <td>0.005274</td>\n",
       "      <td>-0.190321</td>\n",
       "      <td>-1.175575</td>\n",
       "      <td>0.647376</td>\n",
       "      <td>-0.221929</td>\n",
       "      <td>0.062723</td>\n",
       "      <td>0.061458</td>\n",
       "      <td>123.50</td>\n",
       "      <td>0</td>\n",
       "    </tr>\n",
       "    <tr>\n",
       "      <th>4</th>\n",
       "      <td>2.0</td>\n",
       "      <td>-1.158233</td>\n",
       "      <td>0.877737</td>\n",
       "      <td>1.548718</td>\n",
       "      <td>0.403034</td>\n",
       "      <td>-0.407193</td>\n",
       "      <td>0.095921</td>\n",
       "      <td>0.592941</td>\n",
       "      <td>-0.270533</td>\n",
       "      <td>0.817739</td>\n",
       "      <td>...</td>\n",
       "      <td>-0.009431</td>\n",
       "      <td>0.798278</td>\n",
       "      <td>-0.137458</td>\n",
       "      <td>0.141267</td>\n",
       "      <td>-0.206010</td>\n",
       "      <td>0.502292</td>\n",
       "      <td>0.219422</td>\n",
       "      <td>0.215153</td>\n",
       "      <td>69.99</td>\n",
       "      <td>0</td>\n",
       "    </tr>\n",
       "    <tr>\n",
       "      <th>...</th>\n",
       "      <td>...</td>\n",
       "      <td>...</td>\n",
       "      <td>...</td>\n",
       "      <td>...</td>\n",
       "      <td>...</td>\n",
       "      <td>...</td>\n",
       "      <td>...</td>\n",
       "      <td>...</td>\n",
       "      <td>...</td>\n",
       "      <td>...</td>\n",
       "      <td>...</td>\n",
       "      <td>...</td>\n",
       "      <td>...</td>\n",
       "      <td>...</td>\n",
       "      <td>...</td>\n",
       "      <td>...</td>\n",
       "      <td>...</td>\n",
       "      <td>...</td>\n",
       "      <td>...</td>\n",
       "      <td>...</td>\n",
       "      <td>...</td>\n",
       "    </tr>\n",
       "    <tr>\n",
       "      <th>284802</th>\n",
       "      <td>172786.0</td>\n",
       "      <td>-11.881118</td>\n",
       "      <td>10.071785</td>\n",
       "      <td>-9.834783</td>\n",
       "      <td>-2.066656</td>\n",
       "      <td>-5.364473</td>\n",
       "      <td>-2.606837</td>\n",
       "      <td>-4.918215</td>\n",
       "      <td>7.305334</td>\n",
       "      <td>1.914428</td>\n",
       "      <td>...</td>\n",
       "      <td>0.213454</td>\n",
       "      <td>0.111864</td>\n",
       "      <td>1.014480</td>\n",
       "      <td>-0.509348</td>\n",
       "      <td>1.436807</td>\n",
       "      <td>0.250034</td>\n",
       "      <td>0.943651</td>\n",
       "      <td>0.823731</td>\n",
       "      <td>0.77</td>\n",
       "      <td>0</td>\n",
       "    </tr>\n",
       "    <tr>\n",
       "      <th>284803</th>\n",
       "      <td>172787.0</td>\n",
       "      <td>-0.732789</td>\n",
       "      <td>-0.055080</td>\n",
       "      <td>2.035030</td>\n",
       "      <td>-0.738589</td>\n",
       "      <td>0.868229</td>\n",
       "      <td>1.058415</td>\n",
       "      <td>0.024330</td>\n",
       "      <td>0.294869</td>\n",
       "      <td>0.584800</td>\n",
       "      <td>...</td>\n",
       "      <td>0.214205</td>\n",
       "      <td>0.924384</td>\n",
       "      <td>0.012463</td>\n",
       "      <td>-1.016226</td>\n",
       "      <td>-0.606624</td>\n",
       "      <td>-0.395255</td>\n",
       "      <td>0.068472</td>\n",
       "      <td>-0.053527</td>\n",
       "      <td>24.79</td>\n",
       "      <td>0</td>\n",
       "    </tr>\n",
       "    <tr>\n",
       "      <th>284804</th>\n",
       "      <td>172788.0</td>\n",
       "      <td>1.919565</td>\n",
       "      <td>-0.301254</td>\n",
       "      <td>-3.249640</td>\n",
       "      <td>-0.557828</td>\n",
       "      <td>2.630515</td>\n",
       "      <td>3.031260</td>\n",
       "      <td>-0.296827</td>\n",
       "      <td>0.708417</td>\n",
       "      <td>0.432454</td>\n",
       "      <td>...</td>\n",
       "      <td>0.232045</td>\n",
       "      <td>0.578229</td>\n",
       "      <td>-0.037501</td>\n",
       "      <td>0.640134</td>\n",
       "      <td>0.265745</td>\n",
       "      <td>-0.087371</td>\n",
       "      <td>0.004455</td>\n",
       "      <td>-0.026561</td>\n",
       "      <td>67.88</td>\n",
       "      <td>0</td>\n",
       "    </tr>\n",
       "    <tr>\n",
       "      <th>284805</th>\n",
       "      <td>172788.0</td>\n",
       "      <td>-0.240440</td>\n",
       "      <td>0.530483</td>\n",
       "      <td>0.702510</td>\n",
       "      <td>0.689799</td>\n",
       "      <td>-0.377961</td>\n",
       "      <td>0.623708</td>\n",
       "      <td>-0.686180</td>\n",
       "      <td>0.679145</td>\n",
       "      <td>0.392087</td>\n",
       "      <td>...</td>\n",
       "      <td>0.265245</td>\n",
       "      <td>0.800049</td>\n",
       "      <td>-0.163298</td>\n",
       "      <td>0.123205</td>\n",
       "      <td>-0.569159</td>\n",
       "      <td>0.546668</td>\n",
       "      <td>0.108821</td>\n",
       "      <td>0.104533</td>\n",
       "      <td>10.00</td>\n",
       "      <td>0</td>\n",
       "    </tr>\n",
       "    <tr>\n",
       "      <th>284806</th>\n",
       "      <td>172792.0</td>\n",
       "      <td>-0.533413</td>\n",
       "      <td>-0.189733</td>\n",
       "      <td>0.703337</td>\n",
       "      <td>-0.506271</td>\n",
       "      <td>-0.012546</td>\n",
       "      <td>-0.649617</td>\n",
       "      <td>1.577006</td>\n",
       "      <td>-0.414650</td>\n",
       "      <td>0.486180</td>\n",
       "      <td>...</td>\n",
       "      <td>0.261057</td>\n",
       "      <td>0.643078</td>\n",
       "      <td>0.376777</td>\n",
       "      <td>0.008797</td>\n",
       "      <td>-0.473649</td>\n",
       "      <td>-0.818267</td>\n",
       "      <td>-0.002415</td>\n",
       "      <td>0.013649</td>\n",
       "      <td>217.00</td>\n",
       "      <td>0</td>\n",
       "    </tr>\n",
       "  </tbody>\n",
       "</table>\n",
       "<p>284807 rows × 31 columns</p>\n",
       "</div>"
      ],
      "text/plain": [
       "            Time         V1         V2        V3        V4        V5  \\\n",
       "0            0.0  -1.359807  -0.072781  2.536347  1.378155 -0.338321   \n",
       "1            0.0   1.191857   0.266151  0.166480  0.448154  0.060018   \n",
       "2            1.0  -1.358354  -1.340163  1.773209  0.379780 -0.503198   \n",
       "3            1.0  -0.966272  -0.185226  1.792993 -0.863291 -0.010309   \n",
       "4            2.0  -1.158233   0.877737  1.548718  0.403034 -0.407193   \n",
       "...          ...        ...        ...       ...       ...       ...   \n",
       "284802  172786.0 -11.881118  10.071785 -9.834783 -2.066656 -5.364473   \n",
       "284803  172787.0  -0.732789  -0.055080  2.035030 -0.738589  0.868229   \n",
       "284804  172788.0   1.919565  -0.301254 -3.249640 -0.557828  2.630515   \n",
       "284805  172788.0  -0.240440   0.530483  0.702510  0.689799 -0.377961   \n",
       "284806  172792.0  -0.533413  -0.189733  0.703337 -0.506271 -0.012546   \n",
       "\n",
       "              V6        V7        V8        V9  ...       V21       V22  \\\n",
       "0       0.462388  0.239599  0.098698  0.363787  ... -0.018307  0.277838   \n",
       "1      -0.082361 -0.078803  0.085102 -0.255425  ... -0.225775 -0.638672   \n",
       "2       1.800499  0.791461  0.247676 -1.514654  ...  0.247998  0.771679   \n",
       "3       1.247203  0.237609  0.377436 -1.387024  ... -0.108300  0.005274   \n",
       "4       0.095921  0.592941 -0.270533  0.817739  ... -0.009431  0.798278   \n",
       "...          ...       ...       ...       ...  ...       ...       ...   \n",
       "284802 -2.606837 -4.918215  7.305334  1.914428  ...  0.213454  0.111864   \n",
       "284803  1.058415  0.024330  0.294869  0.584800  ...  0.214205  0.924384   \n",
       "284804  3.031260 -0.296827  0.708417  0.432454  ...  0.232045  0.578229   \n",
       "284805  0.623708 -0.686180  0.679145  0.392087  ...  0.265245  0.800049   \n",
       "284806 -0.649617  1.577006 -0.414650  0.486180  ...  0.261057  0.643078   \n",
       "\n",
       "             V23       V24       V25       V26       V27       V28  Amount  \\\n",
       "0      -0.110474  0.066928  0.128539 -0.189115  0.133558 -0.021053  149.62   \n",
       "1       0.101288 -0.339846  0.167170  0.125895 -0.008983  0.014724    2.69   \n",
       "2       0.909412 -0.689281 -0.327642 -0.139097 -0.055353 -0.059752  378.66   \n",
       "3      -0.190321 -1.175575  0.647376 -0.221929  0.062723  0.061458  123.50   \n",
       "4      -0.137458  0.141267 -0.206010  0.502292  0.219422  0.215153   69.99   \n",
       "...          ...       ...       ...       ...       ...       ...     ...   \n",
       "284802  1.014480 -0.509348  1.436807  0.250034  0.943651  0.823731    0.77   \n",
       "284803  0.012463 -1.016226 -0.606624 -0.395255  0.068472 -0.053527   24.79   \n",
       "284804 -0.037501  0.640134  0.265745 -0.087371  0.004455 -0.026561   67.88   \n",
       "284805 -0.163298  0.123205 -0.569159  0.546668  0.108821  0.104533   10.00   \n",
       "284806  0.376777  0.008797 -0.473649 -0.818267 -0.002415  0.013649  217.00   \n",
       "\n",
       "        Class  \n",
       "0           0  \n",
       "1           0  \n",
       "2           0  \n",
       "3           0  \n",
       "4           0  \n",
       "...       ...  \n",
       "284802      0  \n",
       "284803      0  \n",
       "284804      0  \n",
       "284805      0  \n",
       "284806      0  \n",
       "\n",
       "[284807 rows x 31 columns]"
      ]
     },
     "execution_count": 16,
     "metadata": {},
     "output_type": "execute_result"
    }
   ],
   "source": [
    "raw_data"
   ]
  },
  {
   "cell_type": "markdown",
   "id": "84415a34-4f24-483e-ab2a-758091fdbb0d",
   "metadata": {},
   "source": [
    "In practice, a financial institution may have access to a much larger dataset of transactions. To simulate such a case, we will inflate the original one 10 times."
   ]
  },
  {
   "cell_type": "code",
   "execution_count": 17,
   "id": "9ccbffd6-e5b0-43b5-83bd-d6fd3cefc088",
   "metadata": {},
   "outputs": [
    {
     "name": "stdout",
     "output_type": "stream",
     "text": [
      "There are 2848070 observations in the new credit card fraud dataset.\n",
      "There are 31 variables in the new dataset.\n"
     ]
    }
   ],
   "source": [
    "n_times=10\n",
    "#inflate original dataset\n",
    "bigger_raw_data=pd.DataFrame(np.repeat(raw_data.values, n_times, axis=0), columns=raw_data.columns)\n",
    "\n",
    "print(\"There are \" + str(len(bigger_raw_data)) + \" observations in the new credit card fraud dataset.\")\n",
    "print(\"There are \" + str(len(bigger_raw_data.columns)) + \" variables in the new dataset.\")"
   ]
  },
  {
   "cell_type": "code",
   "execution_count": 18,
   "id": "1befea85-4aaf-4235-85d9-354f16aa1a9a",
   "metadata": {},
   "outputs": [
    {
     "data": {
      "text/html": [
       "<div>\n",
       "<style scoped>\n",
       "    .dataframe tbody tr th:only-of-type {\n",
       "        vertical-align: middle;\n",
       "    }\n",
       "\n",
       "    .dataframe tbody tr th {\n",
       "        vertical-align: top;\n",
       "    }\n",
       "\n",
       "    .dataframe thead th {\n",
       "        text-align: right;\n",
       "    }\n",
       "</style>\n",
       "<table border=\"1\" class=\"dataframe\">\n",
       "  <thead>\n",
       "    <tr style=\"text-align: right;\">\n",
       "      <th></th>\n",
       "      <th>Time</th>\n",
       "      <th>V1</th>\n",
       "      <th>V2</th>\n",
       "      <th>V3</th>\n",
       "      <th>V4</th>\n",
       "      <th>V5</th>\n",
       "      <th>V6</th>\n",
       "      <th>V7</th>\n",
       "      <th>V8</th>\n",
       "      <th>V9</th>\n",
       "      <th>...</th>\n",
       "      <th>V21</th>\n",
       "      <th>V22</th>\n",
       "      <th>V23</th>\n",
       "      <th>V24</th>\n",
       "      <th>V25</th>\n",
       "      <th>V26</th>\n",
       "      <th>V27</th>\n",
       "      <th>V28</th>\n",
       "      <th>Amount</th>\n",
       "      <th>Class</th>\n",
       "    </tr>\n",
       "  </thead>\n",
       "  <tbody>\n",
       "    <tr>\n",
       "      <th>0</th>\n",
       "      <td>0.0</td>\n",
       "      <td>-1.359807</td>\n",
       "      <td>-0.072781</td>\n",
       "      <td>2.536347</td>\n",
       "      <td>1.378155</td>\n",
       "      <td>-0.338321</td>\n",
       "      <td>0.462388</td>\n",
       "      <td>0.239599</td>\n",
       "      <td>0.098698</td>\n",
       "      <td>0.363787</td>\n",
       "      <td>...</td>\n",
       "      <td>-0.018307</td>\n",
       "      <td>0.277838</td>\n",
       "      <td>-0.110474</td>\n",
       "      <td>0.066928</td>\n",
       "      <td>0.128539</td>\n",
       "      <td>-0.189115</td>\n",
       "      <td>0.133558</td>\n",
       "      <td>-0.021053</td>\n",
       "      <td>149.62</td>\n",
       "      <td>0.0</td>\n",
       "    </tr>\n",
       "    <tr>\n",
       "      <th>1</th>\n",
       "      <td>0.0</td>\n",
       "      <td>-1.359807</td>\n",
       "      <td>-0.072781</td>\n",
       "      <td>2.536347</td>\n",
       "      <td>1.378155</td>\n",
       "      <td>-0.338321</td>\n",
       "      <td>0.462388</td>\n",
       "      <td>0.239599</td>\n",
       "      <td>0.098698</td>\n",
       "      <td>0.363787</td>\n",
       "      <td>...</td>\n",
       "      <td>-0.018307</td>\n",
       "      <td>0.277838</td>\n",
       "      <td>-0.110474</td>\n",
       "      <td>0.066928</td>\n",
       "      <td>0.128539</td>\n",
       "      <td>-0.189115</td>\n",
       "      <td>0.133558</td>\n",
       "      <td>-0.021053</td>\n",
       "      <td>149.62</td>\n",
       "      <td>0.0</td>\n",
       "    </tr>\n",
       "    <tr>\n",
       "      <th>2</th>\n",
       "      <td>0.0</td>\n",
       "      <td>-1.359807</td>\n",
       "      <td>-0.072781</td>\n",
       "      <td>2.536347</td>\n",
       "      <td>1.378155</td>\n",
       "      <td>-0.338321</td>\n",
       "      <td>0.462388</td>\n",
       "      <td>0.239599</td>\n",
       "      <td>0.098698</td>\n",
       "      <td>0.363787</td>\n",
       "      <td>...</td>\n",
       "      <td>-0.018307</td>\n",
       "      <td>0.277838</td>\n",
       "      <td>-0.110474</td>\n",
       "      <td>0.066928</td>\n",
       "      <td>0.128539</td>\n",
       "      <td>-0.189115</td>\n",
       "      <td>0.133558</td>\n",
       "      <td>-0.021053</td>\n",
       "      <td>149.62</td>\n",
       "      <td>0.0</td>\n",
       "    </tr>\n",
       "    <tr>\n",
       "      <th>3</th>\n",
       "      <td>0.0</td>\n",
       "      <td>-1.359807</td>\n",
       "      <td>-0.072781</td>\n",
       "      <td>2.536347</td>\n",
       "      <td>1.378155</td>\n",
       "      <td>-0.338321</td>\n",
       "      <td>0.462388</td>\n",
       "      <td>0.239599</td>\n",
       "      <td>0.098698</td>\n",
       "      <td>0.363787</td>\n",
       "      <td>...</td>\n",
       "      <td>-0.018307</td>\n",
       "      <td>0.277838</td>\n",
       "      <td>-0.110474</td>\n",
       "      <td>0.066928</td>\n",
       "      <td>0.128539</td>\n",
       "      <td>-0.189115</td>\n",
       "      <td>0.133558</td>\n",
       "      <td>-0.021053</td>\n",
       "      <td>149.62</td>\n",
       "      <td>0.0</td>\n",
       "    </tr>\n",
       "    <tr>\n",
       "      <th>4</th>\n",
       "      <td>0.0</td>\n",
       "      <td>-1.359807</td>\n",
       "      <td>-0.072781</td>\n",
       "      <td>2.536347</td>\n",
       "      <td>1.378155</td>\n",
       "      <td>-0.338321</td>\n",
       "      <td>0.462388</td>\n",
       "      <td>0.239599</td>\n",
       "      <td>0.098698</td>\n",
       "      <td>0.363787</td>\n",
       "      <td>...</td>\n",
       "      <td>-0.018307</td>\n",
       "      <td>0.277838</td>\n",
       "      <td>-0.110474</td>\n",
       "      <td>0.066928</td>\n",
       "      <td>0.128539</td>\n",
       "      <td>-0.189115</td>\n",
       "      <td>0.133558</td>\n",
       "      <td>-0.021053</td>\n",
       "      <td>149.62</td>\n",
       "      <td>0.0</td>\n",
       "    </tr>\n",
       "  </tbody>\n",
       "</table>\n",
       "<p>5 rows × 31 columns</p>\n",
       "</div>"
      ],
      "text/plain": [
       "   Time        V1        V2        V3        V4        V5        V6        V7  \\\n",
       "0   0.0 -1.359807 -0.072781  2.536347  1.378155 -0.338321  0.462388  0.239599   \n",
       "1   0.0 -1.359807 -0.072781  2.536347  1.378155 -0.338321  0.462388  0.239599   \n",
       "2   0.0 -1.359807 -0.072781  2.536347  1.378155 -0.338321  0.462388  0.239599   \n",
       "3   0.0 -1.359807 -0.072781  2.536347  1.378155 -0.338321  0.462388  0.239599   \n",
       "4   0.0 -1.359807 -0.072781  2.536347  1.378155 -0.338321  0.462388  0.239599   \n",
       "\n",
       "         V8        V9  ...       V21       V22       V23       V24       V25  \\\n",
       "0  0.098698  0.363787  ... -0.018307  0.277838 -0.110474  0.066928  0.128539   \n",
       "1  0.098698  0.363787  ... -0.018307  0.277838 -0.110474  0.066928  0.128539   \n",
       "2  0.098698  0.363787  ... -0.018307  0.277838 -0.110474  0.066928  0.128539   \n",
       "3  0.098698  0.363787  ... -0.018307  0.277838 -0.110474  0.066928  0.128539   \n",
       "4  0.098698  0.363787  ... -0.018307  0.277838 -0.110474  0.066928  0.128539   \n",
       "\n",
       "        V26       V27       V28  Amount  Class  \n",
       "0 -0.189115  0.133558 -0.021053  149.62    0.0  \n",
       "1 -0.189115  0.133558 -0.021053  149.62    0.0  \n",
       "2 -0.189115  0.133558 -0.021053  149.62    0.0  \n",
       "3 -0.189115  0.133558 -0.021053  149.62    0.0  \n",
       "4 -0.189115  0.133558 -0.021053  149.62    0.0  \n",
       "\n",
       "[5 rows x 31 columns]"
      ]
     },
     "execution_count": 18,
     "metadata": {},
     "output_type": "execute_result"
    }
   ],
   "source": [
    "bigger_raw_data.head()"
   ]
  },
  {
   "cell_type": "markdown",
   "id": "0b4048e8-0fbe-4093-813f-60711ab0efba",
   "metadata": {},
   "source": [
    "Note: For confidentiality reasons, the original names of most features are anonymized V1, V2 .. V28. The values of these features are the result of a PCA transformation and are numerical. The feature 'Class' is the target variable and it takes two values: 1 in case of fraud and 0 otherwise. For more information about the dataset please visit this webpage: https://www.kaggle.com/mlg-ulb/creditcardfraud."
   ]
  },
  {
   "cell_type": "code",
   "execution_count": 19,
   "id": "55200fe1-43b6-4a0c-8253-b27c5099861d",
   "metadata": {},
   "outputs": [
    {
     "data": {
      "image/png": "[encoded data removed]",
      "text/plain": [
       "<Figure size 640x480 with 1 Axes>"
      ]
     },
     "metadata": {},
     "output_type": "display_data"
    }
   ],
   "source": [
    "#get the set of different classes\n",
    "labels=bigger_raw_data.Class.unique()\n",
    "#get the count of each class\n",
    "cclass=bigger_raw_data.Class.value_counts().values\n",
    "\n",
    "#plot the class value counts\n",
    "fig, ax= plt.subplots()\n",
    "ax.pie(cclass, labels=labels, autopct='%1.3f%%')\n",
    "ax.set_title('Target Variable Class Counts')\n",
    "plt.show()"
   ]
  },
  {
   "cell_type": "markdown",
   "id": "a27ee629-6f60-4da9-a92c-b269789f7179",
   "metadata": {},
   "source": [
    "*Plotting the Histogram for the Amount column*"
   ]
  },
  {
   "cell_type": "code",
   "execution_count": 20,
   "id": "79dca9b4-4435-4524-a6db-82aa7b310412",
   "metadata": {},
   "outputs": [
    {
     "data": {
      "text/plain": [
       "<function matplotlib.pyplot.show(close=None, block=None)>"
      ]
     },
     "execution_count": 20,
     "metadata": {},
     "output_type": "execute_result"
    },
    {
     "data": {
      "image/png": "[encoded data removed]",
      "text/plain": [
       "<Figure size 640x480 with 1 Axes>"
      ]
     },
     "metadata": {},
     "output_type": "display_data"
    }
   ],
   "source": [
    "plt.hist(bigger_raw_data.Amount.values, 6, histtype='barstacked', facecolor='g')\n",
    "plt.show"
   ]
  },
  {
   "cell_type": "code",
   "execution_count": 21,
   "id": "58c7cc1a-beeb-4100-8bd4-48979aea2e64",
   "metadata": {},
   "outputs": [
    {
     "data": {
      "image/png": "[encoded data removed]",
      "text/plain": [
       "<Figure size 1200x900 with 2 Axes>"
      ]
     },
     "metadata": {},
     "output_type": "display_data"
    }
   ],
   "source": [
    "import seaborn as sns\n",
    "#Plotting the correlation matrix\n",
    "corr_matrix=bigger_raw_data.corr()\n",
    "fig=plt.figure(figsize=(12,9))\n",
    "sns.heatmap(corr_matrix, square=True)\n",
    "plt.show()"
   ]
  },
  {
   "cell_type": "markdown",
   "id": "24c45e65-b9f4-4dde-a2d5-1590cfc2d235",
   "metadata": {},
   "source": [
    "*Printing some more info*"
   ]
  },
  {
   "cell_type": "code",
   "execution_count": 22,
   "id": "a390d9ed-39c9-4a23-9055-54961246ff6c",
   "metadata": {},
   "outputs": [
    {
     "name": "stdout",
     "output_type": "stream",
     "text": [
      "Maximum transaction amount is: 25691.16\n",
      "Minimun transaction amount is: 0.0\n",
      "75th percentile is: 77.17\n"
     ]
    }
   ],
   "source": [
    "print('Maximum transaction amount is:', bigger_raw_data.Amount.values.max())\n",
    "print('Minimun transaction amount is:', bigger_raw_data.Amount.values.min())\n",
    "print('75th percentile is:', np.percentile(bigger_raw_data.Amount.values, 75))"
   ]
  },
  {
   "cell_type": "code",
   "execution_count": 23,
   "id": "adb473e2-9ba9-4da3-9626-2c20de6da0ee",
   "metadata": {},
   "outputs": [
    {
     "data": {
      "image/png": "[encoded data removed]",
      "text/plain": [
       "<Figure size 640x480 with 1 Axes>"
      ]
     },
     "metadata": {},
     "output_type": "display_data"
    }
   ],
   "source": [
    "plt.boxplot(bigger_raw_data.Amount.values)\n",
    "plt.title(\"Boxplot of Amount\")\n",
    "plt.xlabel(\"Amount\")\n",
    "plt.show()"
   ]
  },
  {
   "cell_type": "markdown",
   "id": "ee343f94-8148-4cb7-a637-7135cd7c2f38",
   "metadata": {},
   "source": [
    "**Data Preprocessing**"
   ]
  },
  {
   "cell_type": "code",
   "execution_count": 24,
   "id": "7bcd5250-9793-419e-afee-c6b7b978dc8e",
   "metadata": {},
   "outputs": [
    {
     "name": "stdout",
     "output_type": "stream",
     "text": [
      "Shape of X: (2848070, 29) Shape of y: (2848070,)\n"
     ]
    }
   ],
   "source": [
    "bigger_raw_data.iloc[:,1:30]=StandardScaler().fit_transform(bigger_raw_data.iloc[:,1:30])\n",
    "data_matrix=bigger_raw_data.values\n",
    "X=data_matrix[:,1:30]\n",
    "y=data_matrix[:, 30]\n",
    "X=normalize(X, norm='l1')\n",
    "print('Shape of X:', X.shape, 'Shape of y:', y.shape)"
   ]
  },
  {
   "cell_type": "code",
   "execution_count": 25,
   "id": "d44cee6a-1f56-45e5-8e89-b76e523a112f",
   "metadata": {},
   "outputs": [
    {
     "name": "stdout",
     "output_type": "stream",
     "text": [
      "Testing dataset: (569614, 29) (569614,)\n",
      "Training dataset: (2278456, 29) (2278456,)\n"
     ]
    }
   ],
   "source": [
    "X_train, X_test, y_train, y_test= train_test_split(X, y, test_size=0.2, random_state=42, stratify=y)\n",
    "print('Testing dataset:', X_test.shape, y_test.shape)\n",
    "print('Training dataset:', X_train.shape, y_train.shape)"
   ]
  },
  {
   "cell_type": "markdown",
   "id": "cdad9e85-ecd7-489e-98c1-cb62d84466d6",
   "metadata": {},
   "source": [
    "**Build a Decision Tree Classifier with scikit-learn**"
   ]
  },
  {
   "cell_type": "code",
   "execution_count": 26,
   "id": "c54e621d-dcdf-4017-bcce-b8ef4fd827ac",
   "metadata": {},
   "outputs": [
    {
     "name": "stdout",
     "output_type": "stream",
     "text": [
      "[Scikit-learn] training time: 80.84326076507568\n"
     ]
    }
   ],
   "source": [
    "w_train=compute_sample_weight('balanced', y_train)\n",
    "\n",
    "from sklearn.tree import DecisionTreeClassifier\n",
    "ds=DecisionTreeClassifier(max_depth=4, random_state=42)\n",
    "t0=time.time()\n",
    "ds.fit(X_train, y_train, sample_weight=w_train)\n",
    "ds_time=time.time()-t0\n",
    "print('[Scikit-learn] training time:', ds_time)"
   ]
  },
  {
   "cell_type": "markdown",
   "id": "80a05a8b-1a75-4291-97d7-2f5317a9809c",
   "metadata": {},
   "source": [
    "**Build a decision tree using snapML**"
   ]
  },
  {
   "cell_type": "code",
   "execution_count": 27,
   "id": "0a92d8f2-9205-430f-a263-6eb6b66ee79a",
   "metadata": {},
   "outputs": [
    {
     "name": "stdout",
     "output_type": "stream",
     "text": [
      "[SnapML] training time: 8.450728178024292\n"
     ]
    }
   ],
   "source": [
    "from snapml import DecisionTreeClassifier\n",
    "snap_ds=DecisionTreeClassifier(max_depth=4, random_state=42, n_jobs=4)\n",
    "t0=time.time()\n",
    "snap_ds.fit(X_train, y_train, sample_weight=w_train)\n",
    "snap_ds_time=time.time()-t0\n",
    "print('[SnapML] training time:', snap_ds_time)"
   ]
  },
  {
   "cell_type": "markdown",
   "id": "c04f305b-ddd3-4dfa-a361-b5daec06a4e9",
   "metadata": {},
   "source": [
    "**Prediction and evaluation**"
   ]
  },
  {
   "cell_type": "code",
   "execution_count": 56,
   "id": "bb9eb571-0c60-4c6e-b393-f57eaacb222f",
   "metadata": {},
   "outputs": [
    {
     "name": "stdout",
     "output_type": "stream",
     "text": [
      "sk-learn ROC-AUC score: 0.9724840470227328\n",
      "snapML ROC-AUC score: 0.9637966972465127\n"
     ]
    }
   ],
   "source": [
    "#using sk-learn\n",
    "skl_pred=ds.predict_proba(X_test)[:, 1]\n",
    "skl_roc_auc=roc_auc_score(y_test,skl_pred)\n",
    "print('sk-learn ROC-AUC score:', skl_roc_auc)\n",
    "#using snapML\n",
    "sml_pred=snap_ds.predict_proba(X_test)[:, 1]\n",
    "sml_roc_auc=roc_auc_score(y_test, sml_pred)\n",
    "print('snapML ROC-AUC score:', sml_roc_auc)"
   ]
  },
  {
   "cell_type": "code",
   "execution_count": 58,
   "id": "78e976fd-7bcb-43d6-8fd2-3e57014cf3b8",
   "metadata": {},
   "outputs": [],
   "source": [
    "y_test.dtype\n",
    "skl_pred.dtype\n",
    "y_test=y_test.astype('int32')\n",
    "skl_pred=skl_pred.astype('int32')"
   ]
  },
  {
   "cell_type": "code",
   "execution_count": 59,
   "id": "feee492f-ae0d-4079-8950-32d073f6c44f",
   "metadata": {},
   "outputs": [
    {
     "name": "stdout",
     "output_type": "stream",
     "text": [
      "The model used is Decision Tree;\n",
      "The evaluation for the sk-learn model is:\n",
      "Accuracy is:0.9982725143693799\n",
      "Precision is:0.0\n",
      "Recall is:0.0\n",
      "F1-Score is:0.0\n",
      "The Matthews correlation coefficient is:0.0\n"
     ]
    }
   ],
   "source": [
    "from sklearn.metrics import classification_report, accuracy_score\n",
    "from sklearn.metrics import recall_score, precision_score\n",
    "from sklearn.metrics import f1_score, matthews_corrcoef\n",
    "from sklearn.metrics import confusion_matrix\n",
    "acc=accuracy_score(y_test, skl_pred)\n",
    "print('The model used is Decision Tree;\\nThe evaluation for the sk-learn model is:')\n",
    "print('Accuracy is:{}'.format(acc))\n",
    "pre=precision_score(y_test, skl_pred, pos_label=1)\n",
    "print('Precision is:{}'.format(pre))\n",
    "rec=recall_score(y_test, skl_pred, pos_label=1)\n",
    "print('Recall is:{}'.format(rec))\n",
    "f1=f1_score(y_test, skl_pred, pos_label=1)\n",
    "print('F1-Score is:{}'.format(f1))\n",
    "mat=matthews_corrcoef(y_test, skl_pred)\n",
    "print('The Matthews correlation coefficient is:{}'.format(mat))"
   ]
  },
  {
   "cell_type": "code",
   "execution_count": 62,
   "id": "39e7e8fc-4ddb-4438-8ac0-8fdb6c72f817",
   "metadata": {},
   "outputs": [
    {
     "name": "stdout",
     "output_type": "stream",
     "text": [
      "The model used is Decision Tree; \n",
      "The evaluation for the sk-learn model is:\n",
      "Accuracy is: 1.0\n",
      "Precision is: 1.0\n",
      "Recall is: 1.0\n",
      "F1-Score is: 1.0\n",
      "The Matthews correlation coefficient is: 1.0\n",
      "Classification Report:\n",
      "               precision    recall  f1-score   support\n",
      "\n",
      "           0       1.00      1.00      1.00    568630\n",
      "           1       1.00      1.00      1.00       984\n",
      "\n",
      "    accuracy                           1.00    569614\n",
      "   macro avg       1.00      1.00      1.00    569614\n",
      "weighted avg       1.00      1.00      1.00    569614\n",
      "\n",
      "[[568630      0]\n",
      " [     0    984]]\n"
     ]
    }
   ],
   "source": [
    "# skl_pred.sum()\n",
    "# y_test.sum()\n",
    "# print(confusion_matrix(y_test, skl_pred))\n",
    "# print('Classification Report:\\n', classification_report(y_test, skl_pred))\n",
    "\n",
    "from sklearn.tree import DecisionTreeClassifier\n",
    "from sklearn.metrics import classification_report, accuracy_score, precision_score, recall_score, f1_score, matthews_corrcoef, confusion_matrix\n",
    "from imblearn.over_sampling import SMOTE\n",
    "\n",
    "# Resampling the dataset\n",
    "smote = SMOTE()\n",
    "X_resampled, y_resampled = smote.fit_resample(X_train, y_train)\n",
    "\n",
    "# Train the model with resampled data\n",
    "model = DecisionTreeClassifier()\n",
    "model.fit(X_resampled, y_resampled)\n",
    "\n",
    "# Make predictions\n",
    "skl_pred = model.predict(X_test)\n",
    "\n",
    "# Evaluation metrics\n",
    "acc = accuracy_score(y_test, skl_pred)\n",
    "pre = precision_score(y_test, skl_pred, average='binary', pos_label=1)\n",
    "rec = recall_score(y_test, skl_pred, average='binary', pos_label=1)\n",
    "f1 = f1_score(y_test, skl_pred, average='binary', pos_label=1)\n",
    "mat = matthews_corrcoef(y_test, skl_pred)\n",
    "\n",
    "print('The model used is Decision Tree; \\nThe evaluation for the sk-learn model is:')\n",
    "print('Accuracy is: {}'.format(acc))\n",
    "print('Precision is: {}'.format(pre))\n",
    "print('Recall is: {}'.format(rec))\n",
    "print('F1-Score is: {}'.format(f1))\n",
    "print('The Matthews correlation coefficient is: {}'.format(mat))\n",
    "\n",
    "# Classification report\n",
    "print('Classification Report:\\n', classification_report(y_test, skl_pred))\n",
    "\n",
    "# Confusion matrix\n",
    "print(confusion_matrix(y_test, skl_pred))"
   ]
  },
  {
   "cell_type": "markdown",
   "id": "8fdb9924-5e82-4465-8901-b62d1170d352",
   "metadata": {},
   "source": [
    "**Build a Support Vector Machine model using scikit-learn**"
   ]
  },
  {
   "cell_type": "code",
   "execution_count": 29,
   "id": "900746f1-551c-4f4b-bde0-089dfcfda0c8",
   "metadata": {},
   "outputs": [
    {
     "name": "stdout",
     "output_type": "stream",
     "text": [
      "[sk-learn] training time: 139.81676959991455\n"
     ]
    }
   ],
   "source": [
    "from sklearn.svm import LinearSVC\n",
    "\n",
    "sk_svm=LinearSVC(class_weight='balanced', random_state=42, loss='hinge', fit_intercept=False)\n",
    "t0=time.time()\n",
    "sk_svm.fit(X_train, y_train)\n",
    "time_sk=time.time()-t0\n",
    "print('[sk-learn] training time:', time_sk)"
   ]
  },
  {
   "cell_type": "markdown",
   "id": "deb2f193-bab2-4e41-a791-aabe5cae6bf4",
   "metadata": {},
   "source": [
    "**Build a Support Vector Machine model using snapML**"
   ]
  },
  {
   "cell_type": "code",
   "execution_count": 30,
   "id": "84dfe06c-efdd-4327-8510-96a969d63960",
   "metadata": {},
   "outputs": [
    {
     "name": "stdout",
     "output_type": "stream",
     "text": [
      "[SnapML] training time: 22.6555392742157\n"
     ]
    }
   ],
   "source": [
    "from snapml import SupportVectorMachine\n",
    "\n",
    "snap_svm=SupportVectorMachine(class_weight='balanced', random_state=42, n_jobs=4, fit_intercept=False)\n",
    "t0=time.time()\n",
    "snap_svm.fit(X_train, y_train)\n",
    "time_snap=time.time()-t0\n",
    "print('[SnapML] training time:', time_snap)"
   ]
  },
  {
   "cell_type": "markdown",
   "id": "a1e763b9-f1f9-4fc5-9c1e-7a4ac53b7cf3",
   "metadata": {},
   "source": [
    "**Predicting and evaluating the models**"
   ]
  },
  {
   "cell_type": "code",
   "execution_count": 31,
   "id": "8792f871-e1c3-4297-b726-63f21ab3cac8",
   "metadata": {},
   "outputs": [
    {
     "name": "stdout",
     "output_type": "stream",
     "text": [
      "ROC-AUC score for sklearn model: 0.9853214987270075\n",
      "ROC AUC score for snapML model: 0.985289706081469\n"
     ]
    }
   ],
   "source": [
    "sk_pred=sk_svm.decision_function(X_test)\n",
    "sk_ra=roc_auc_score(y_test, sk_pred)\n",
    "print('ROC-AUC score for sklearn model:', sk_ra)\n",
    "\n",
    "snap_pred=snap_svm.decision_function(X_test)\n",
    "sn_ra=roc_auc_score(y_test, snap_pred)\n",
    "print('ROC AUC score for snapML model:', sn_ra)"
   ]
  },
  {
   "cell_type": "markdown",
   "id": "813b8e97-e4ee-4f05-9113-29e81542ff78",
   "metadata": {},
   "source": [
    "**Hinge loss calculation**"
   ]
  },
  {
   "cell_type": "code",
   "execution_count": 32,
   "id": "2d89dedf-32e2-42bf-ae0c-ccacde2afc1b",
   "metadata": {},
   "outputs": [
    {
     "name": "stdout",
     "output_type": "stream",
     "text": [
      "Hinge Loss using SnapML: 0.2150435186223597\n",
      "Hinge Loss using scilearn module: 0.22185223277728788\n"
     ]
    }
   ],
   "source": [
    "from sklearn.metrics import hinge_loss\n",
    "loss_sn=hinge_loss(y_test, snap_pred)\n",
    "print('Hinge Loss using SnapML:', loss_sn)\n",
    "loss_sk=hinge_loss(y_test, sk_pred)\n",
    "print('Hinge Loss using scilearn module:', loss_sk)"
   ]
  },
  {
   "cell_type": "code",
   "execution_count": null,
   "id": "68fc31a4-c357-4b6f-a382-bb5ce232ff35",
   "metadata": {},
   "outputs": [],
   "source": []
  }
 ],
 "metadata": {
  "kernelspec": {
   "display_name": "Python 3 (ipykernel)",
   "language": "python",
   "name": "python3"
  },
  "language_info": {
   "codemirror_mode": {
    "name": "ipython",
    "version": 3
   },
   "file_extension": ".py",
   "mimetype": "text/x-python",
   "name": "python",
   "nbconvert_exporter": "python",
   "pygments_lexer": "ipython3",
   "version": "3.11.7"
  }
 },
 "nbformat": 4,
 "nbformat_minor": 5
}
